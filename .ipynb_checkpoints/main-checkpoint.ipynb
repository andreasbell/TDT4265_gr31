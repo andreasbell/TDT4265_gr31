{
 "cells": [
  {
   "cell_type": "code",
   "execution_count": 3,
   "metadata": {
    "collapsed": false
   },
   "outputs": [
    {
     "name": "stdout",
     "output_type": "stream",
     "text": [
      "test\n"
     ]
    }
   ],
   "source": [
    "from Game import RPS_Game\n",
    "from CVTracker import CVTracker\n",
    "\n",
    "import cv2\n",
    "import sys\n",
    "\n",
    "\n",
    "\n",
    "tracker = CVTracker()\n",
    "tracker.absdiff_thresh = 20\n",
    "cap = cv2.VideoCapture(0)\n",
    "\n",
    "while True:\n",
    "    ret,frame = cap.read()\n",
    "    if not ret:\n",
    "        print('Cannot read webcam file')\n",
    "        sys.exit()\n",
    "    tracker.AD_tracker(frame)\n",
    "    \n",
    "    #tracker.box\n",
    "    cv2.imshow(\"frame\", frame)\n",
    "    cv2.imshow(\"thres\", tracker.thresh)\n",
    "    \n",
    "    k = cv2.waitKey(1) & 0xff\n",
    "    if k == 27: \n",
    "        cap.release()\n",
    "        cv2.destroyAllWindows()\n",
    "        break\n",
    "    \n",
    "\n",
    "#app = RPS_Game()\n",
    "#app.run()"
   ]
  },
  {
   "cell_type": "code",
   "execution_count": 14,
   "metadata": {
    "collapsed": true
   },
   "outputs": [],
   "source": [
    "cap.release()\n",
    "cv2.destroyAllWindows()"
   ]
  },
  {
   "cell_type": "code",
   "execution_count": null,
   "metadata": {
    "collapsed": true
   },
   "outputs": [],
   "source": []
  },
  {
   "cell_type": "code",
   "execution_count": null,
   "metadata": {
    "collapsed": true
   },
   "outputs": [],
   "source": []
  }
 ],
 "metadata": {
  "kernelspec": {
   "display_name": "Python 3",
   "language": "python",
   "name": "python3"
  },
  "language_info": {
   "codemirror_mode": {
    "name": "ipython",
    "version": 3
   },
   "file_extension": ".py",
   "mimetype": "text/x-python",
   "name": "python",
   "nbconvert_exporter": "python",
   "pygments_lexer": "ipython3",
   "version": "3.5.2"
  }
 },
 "nbformat": 4,
 "nbformat_minor": 2
}
