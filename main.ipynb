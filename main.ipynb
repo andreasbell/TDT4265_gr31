{
 "cells": [
  {
   "cell_type": "markdown",
   "metadata": {},
   "source": [
    "# Play game"
   ]
  },
  {
   "cell_type": "code",
   "execution_count": 1,
   "metadata": {
    "collapsed": false
   },
   "outputs": [
    {
     "name": "stdout",
     "output_type": "stream",
     "text": [
      "Tracking\n",
      "Classic\n",
      "Motion\n",
      "Motion\n",
      "HSV\n",
      "Tracking\n",
      "Tracking\n",
      "Tracking\n",
      "Motion\n",
      "Tracking\n",
      "Play\n",
      "LETS ROCK!\n",
      "['Tracking', 'Classic']\n",
      "Kjetil\n",
      "med\n",
      "med\n",
      "med\n",
      "med\n",
      "med\n",
      "med\n",
      "med\n",
      "med\n",
      "med\n",
      "med\n",
      "med\n",
      "med\n",
      "med\n",
      "med\n",
      "med\n",
      "med\n",
      "med\n",
      "med\n",
      "med\n",
      "med\n",
      "med\n",
      "med\n",
      "med\n",
      "med\n",
      "med\n",
      "med\n",
      "med\n"
     ]
    }
   ],
   "source": [
    "from Game import RPS_Game\n",
    "app = RPS_Game()\n",
    "app.run()"
   ]
  },
  {
   "cell_type": "code",
   "execution_count": null,
   "metadata": {
    "collapsed": true
   },
   "outputs": [],
   "source": []
  },
  {
   "cell_type": "code",
   "execution_count": null,
   "metadata": {
    "collapsed": true
   },
   "outputs": [],
   "source": []
  }
 ],
 "metadata": {
  "anaconda-cloud": {},
  "kernelspec": {
   "display_name": "Python [conda env:datasyn]",
   "language": "python",
   "name": "conda-env-datasyn-py"
  },
  "language_info": {
   "codemirror_mode": {
    "name": "ipython",
    "version": 3
   },
   "file_extension": ".py",
   "mimetype": "text/x-python",
   "name": "python",
   "nbconvert_exporter": "python",
   "pygments_lexer": "ipython3",
   "version": "3.5.2"
  }
 },
 "nbformat": 4,
 "nbformat_minor": 2
}
